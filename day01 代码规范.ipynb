{
 "cells": [
  {
   "cell_type": "markdown",
   "id": "238fdc93-e6ba-4ca4-b645-39e5c5856f24",
   "metadata": {},
   "source": [
    "## 一、注释"
   ]
  },
  {
   "cell_type": "markdown",
   "id": "48e3066c-c028-4bdf-afcf-1b0bd2f64872",
   "metadata": {},
   "source": [
    "### 1、注释"
   ]
  },
  {
   "cell_type": "markdown",
   "id": "0565f4cd-e0a2-469c-952b-6943bcc7eb6e",
   "metadata": {},
   "source": [
    "#### 1.1 块注释"
   ]
  },
  {
   "cell_type": "markdown",
   "id": "bcfccb46-e03a-41b6-ad9e-096deef2c230",
   "metadata": {},
   "source": [
    "“#”号后空一格，段落件用空行分开（同样需要“#”号）"
   ]
  },
  {
   "cell_type": "code",
   "execution_count": 1,
   "id": "bae060f2-8962-4e6a-8445-8d528d02437a",
   "metadata": {},
   "outputs": [],
   "source": [
    "# 块注释\n",
    "# 块注释\n",
    "# \n",
    "# 块注释\n",
    "# 块注释"
   ]
  },
  {
   "cell_type": "markdown",
   "id": "307036f7-a645-4f41-9b3a-d24133e12690",
   "metadata": {},
   "source": [
    "#### 1.2 行注释\n",
    "至少使用两个空格和语句分开，注意不要使用无意义的注释"
   ]
  },
  {
   "cell_type": "code",
   "execution_count": 6,
   "id": "4e8f4dfa-45ef-4f90-886b-f7ea105ee8df",
   "metadata": {},
   "outputs": [],
   "source": [
    "#  正确的写法\n",
    "x = 1\n",
    "x = x + 1  #  边框加粗"
   ]
  },
  {
   "cell_type": "markdown",
   "id": "a294c0cc-c616-499a-a0b2-e6e6b9c297aa",
   "metadata": {},
   "source": [
    "#### 1.3 建议\n",
    "* 借助等号,加强注释的醒目性"
   ]
  },
  {
   "cell_type": "code",
   "execution_count": 8,
   "id": "02f94dfe-46da-427b-83ba-ae3fa5d8858f",
   "metadata": {},
   "outputs": [],
   "source": [
    "# =====================================\n",
    "# 注释\n",
    "# ====================================="
   ]
  },
  {
   "cell_type": "markdown",
   "id": "18336421-e92a-4561-9f6b-654c8fadc005",
   "metadata": {},
   "source": [
    "## 2、文档注释(Docstring)\n",
    "文档注释一般出现于模块的头部、函数和类的头部。\n",
    "* 文档注释以\"\"\"开头和结尾,首行不换行,如有多行，末行必须换行.\n",
    "* 对函数、类,可以利用文档注释解释具体参数和返回值等"
   ]
  },
  {
   "cell_type": "code",
   "execution_count": 9,
   "id": "50a0b3de-5620-4d90-8bf8-d5d9303d558d",
   "metadata": {},
   "outputs": [
    {
     "data": {
      "text/plain": [
       "'Example docstrings.\\n\\nThis module demonstrates documentation as specified by the `Google Python\\nStyle Guide`_. Docstrings may extend over multiple lines. Sections are created\\nwith a section header and a colon followed by a block of indented text.\\n\\nExample:\\n    Examples can be given using either the ``Example`` or ``Examples``\\n    sections. Sections support any reStructuredText formatting, including\\n    literal blocks::\\n\\n        $ python example_google.py\\n\\nSection breaks are created by resuming unindented text. Section breaks\\nare also implicitly created anytime a new section starts.\\n'"
      ]
     },
     "execution_count": 9,
     "metadata": {},
     "output_type": "execute_result"
    }
   ],
   "source": [
    "# -*- coding: utf-8 -*-\n",
    "\"\"\"Example docstrings.\n",
    "\n",
    "This module demonstrates documentation as specified by the `Google Python\n",
    "Style Guide`_. Docstrings may extend over multiple lines. Sections are created\n",
    "with a section header and a colon followed by a block of indented text.\n",
    "\n",
    "Example:\n",
    "    Examples can be given using either the ``Example`` or ``Examples``\n",
    "    sections. Sections support any reStructuredText formatting, including\n",
    "    literal blocks::\n",
    "\n",
    "        $ python example_google.py\n",
    "\n",
    "Section breaks are created by resuming unindented text. Section breaks\n",
    "are also implicitly created anytime a new section starts.\n",
    "\"\"\""
   ]
  },
  {
   "cell_type": "markdown",
   "id": "cd1bd149-5a1b-4836-ac41-7c8093b213b2",
   "metadata": {},
   "source": [
    "## 3、命名规范"
   ]
  },
  {
   "cell_type": "markdown",
   "id": "e5c4b327-a735-4b29-a671-0cf188a40b15",
   "metadata": {},
   "source": [
    "### 1. 模块\n",
    "模块尽量使用小写命名,首字母保持小写,尽量不要用下划线(除非多个单词，且数量不多的情况)"
   ]
  },
  {
   "cell_type": "code",
   "execution_count": 5,
   "id": "3bd223ba-de78-4455-a043-6556b81effa7",
   "metadata": {},
   "outputs": [],
   "source": [
    "# 正确的模块名\n",
    "import pandas\n",
    "import numpy\n",
    "\n",
    "# 不推荐的模块名\n",
    "import Decoder"
   ]
  },
  {
   "cell_type": "markdown",
   "id": "2a85ffc6-6002-4eee-9f47-44a2aaf16d15",
   "metadata": {},
   "source": [
    "### 2. 类名\n",
    "类名使用驼峰命名风格,首字母大写,私有类可用一个下划线开头"
   ]
  },
  {
   "cell_type": "code",
   "execution_count": 6,
   "id": "1f507b9d-5994-42ec-83e5-7a9290411f71",
   "metadata": {},
   "outputs": [],
   "source": [
    "class Farm():\n",
    "    pass\n",
    "\n",
    "class AnimalFarm(Farm):\n",
    "    pass\n",
    "\n",
    "class _PrivateFarm(Farm):\n",
    "    pass"
   ]
  },
  {
   "cell_type": "markdown",
   "id": "6348d123-aa05-48ef-b32d-db82d1ddad9e",
   "metadata": {},
   "source": [
    "### 3. 函数"
   ]
  },
  {
   "cell_type": "code",
   "execution_count": 8,
   "id": "fd18dfb0-3b99-4b0a-bfb0-756d71f343e1",
   "metadata": {},
   "outputs": [],
   "source": [
    "# 函数名一律小写，如有多个单词，用下划线隔开\n",
    "def run():\n",
    "    pass\n",
    "\n",
    "def run_with_env():\n",
    "    pass"
   ]
  },
  {
   "cell_type": "code",
   "execution_count": 9,
   "id": "c90f627b-47eb-40c0-9bb9-346f10694a0d",
   "metadata": {},
   "outputs": [],
   "source": [
    "# 私有函数在函数前加一个下划线_\n",
    "class Person():\n",
    "\n",
    "    def _private_func():\n",
    "        pass"
   ]
  },
  {
   "cell_type": "markdown",
   "id": "86e88bc6-f965-41a3-ab8c-92177a3fb6e1",
   "metadata": {},
   "source": [
    "### 4. 变量名"
   ]
  },
  {
   "cell_type": "code",
   "execution_count": 10,
   "id": "a8fddbd5-9857-4417-9b06-58fb154c8b57",
   "metadata": {},
   "outputs": [],
   "source": [
    "# 变量名尽量小写, 如有多个单词，用下划线隔开\n",
    "if __name__ == '__main__':\n",
    "    count = 0\n",
    "    school_name = ''"
   ]
  },
  {
   "cell_type": "markdown",
   "id": "efe09c88-19cf-4937-988d-c976a8cd0d29",
   "metadata": {},
   "source": [
    "### 5. 常量"
   ]
  },
  {
   "cell_type": "code",
   "execution_count": 13,
   "id": "74fe9c0f-4c53-470f-965a-34d623737685",
   "metadata": {},
   "outputs": [],
   "source": [
    "# 常量采用全大写，如有多个单词，使用下划线隔开\n",
    "MAX_CLIENT = 100\n",
    "MAX_CONNECTION = 1000\n",
    "CONNECTION_TIMEOUT = 600\n",
    "\n",
    "\n",
    "#常量使用以下划线分隔的大写命名\n",
    "MAX_OVERFLOW = 100\n",
    "\n",
    "\n",
    "def foo_bar(self, print_):\n",
    "    print(print_)"
   ]
  },
  {
   "cell_type": "code",
   "execution_count": null,
   "id": "8d3b9bd2-3563-452e-b51d-481d8009f446",
   "metadata": {},
   "outputs": [],
   "source": []
  }
 ],
 "metadata": {
  "kernelspec": {
   "display_name": "Python 3 (ipykernel)",
   "language": "python",
   "name": "python3"
  },
  "language_info": {
   "codemirror_mode": {
    "name": "ipython",
    "version": 3
   },
   "file_extension": ".py",
   "mimetype": "text/x-python",
   "name": "python",
   "nbconvert_exporter": "python",
   "pygments_lexer": "ipython3",
   "version": "3.7.10"
  }
 },
 "nbformat": 4,
 "nbformat_minor": 5
}
